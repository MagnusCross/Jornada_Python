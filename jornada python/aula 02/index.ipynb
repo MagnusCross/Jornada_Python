{
 "cells": [
  {
   "cell_type": "code",
   "execution_count": 16,
   "metadata": {},
   "outputs": [
    {
     "name": "stdout",
     "output_type": "stream",
     "text": [
      "         codigo       marca        tipo  categoria  preco_unitario  custo  \\\n",
      "0    MOLO000251    Logitech       Mouse          1           25.95    6.5   \n",
      "1    MOLO000192    Logitech       Mouse          2           19.95    5.0   \n",
      "2    CAHA000251     Hashtag      Camisa          1           25.00   11.0   \n",
      "3    CAHA000252     Hashtag      Camisa          2           25.00   11.0   \n",
      "4    MOMU000111  Multilaser       Mouse          1           11.99    3.4   \n",
      "..          ...         ...         ...        ...             ...    ...   \n",
      "288  ACAP000192       Apple  Acessorios          2           19.00    3.8   \n",
      "289  ACSA0009.3     Samsung  Acessorios          3            9.55    2.1   \n",
      "290  CEMO000271    Motorola     Celular          1          279.00   72.5   \n",
      "291  FOMO000152    Motorola        Fone          2          150.00   33.0   \n",
      "292  CEMO000223    Motorola     Celular          3          229.00   55.0   \n",
      "\n",
      "                  obs  \n",
      "0                 NaN  \n",
      "1                 NaN  \n",
      "2                 NaN  \n",
      "3    Conferir estoque  \n",
      "4                 NaN  \n",
      "..                ...  \n",
      "288               NaN  \n",
      "289               NaN  \n",
      "290               NaN  \n",
      "291               NaN  \n",
      "292               NaN  \n",
      "\n",
      "[293 rows x 7 columns]\n"
     ]
    }
   ],
   "source": [
    "import pandas as pd\n",
    "import pyautogui \n",
    "import time\n",
    "\n",
    "tabela = pd.read_csv(\"produtos.csv\")\n",
    "print(tabela)"
   ]
  },
  {
   "cell_type": "code",
   "execution_count": 17,
   "metadata": {},
   "outputs": [
    {
     "ename": "FailSafeException",
     "evalue": "PyAutoGUI fail-safe triggered from mouse moving to a corner of the screen. To disable this fail-safe, set pyautogui.FAILSAFE to False. DISABLING FAIL-SAFE IS NOT RECOMMENDED.",
     "output_type": "error",
     "traceback": [
      "\u001b[1;31m---------------------------------------------------------------------------\u001b[0m",
      "\u001b[1;31mFailSafeException\u001b[0m                         Traceback (most recent call last)",
      "Cell \u001b[1;32mIn[17], line 27\u001b[0m\n\u001b[0;32m     25\u001b[0m pyautogui\u001b[38;5;241m.\u001b[39mwrite(\u001b[38;5;28mstr\u001b[39m(tabela\u001b[38;5;241m.\u001b[39mloc[linha, \u001b[38;5;124m\"\u001b[39m\u001b[38;5;124mmarca\u001b[39m\u001b[38;5;124m\"\u001b[39m]))\n\u001b[0;32m     26\u001b[0m pyautogui\u001b[38;5;241m.\u001b[39mpress(\u001b[38;5;124m\"\u001b[39m\u001b[38;5;124mtab\u001b[39m\u001b[38;5;124m\"\u001b[39m)\n\u001b[1;32m---> 27\u001b[0m pyautogui\u001b[38;5;241m.\u001b[39mwrite(\u001b[38;5;28mstr\u001b[39m(tabela\u001b[38;5;241m.\u001b[39mloc[linha, \u001b[38;5;124m\"\u001b[39m\u001b[38;5;124mtipo\u001b[39m\u001b[38;5;124m\"\u001b[39m]))\n\u001b[0;32m     28\u001b[0m pyautogui\u001b[38;5;241m.\u001b[39mpress(\u001b[38;5;124m\"\u001b[39m\u001b[38;5;124mtab\u001b[39m\u001b[38;5;124m\"\u001b[39m)\n\u001b[0;32m     29\u001b[0m pyautogui\u001b[38;5;241m.\u001b[39mwrite(\u001b[38;5;28mstr\u001b[39m(tabela\u001b[38;5;241m.\u001b[39mloc[linha, \u001b[38;5;124m\"\u001b[39m\u001b[38;5;124mcategoria\u001b[39m\u001b[38;5;124m\"\u001b[39m]))\n",
      "File \u001b[1;32mc:\\Users\\Neto\\anaconda3\\Lib\\site-packages\\pyautogui\\__init__.py:593\u001b[0m, in \u001b[0;36m_genericPyAutoGUIChecks.<locals>.wrapper\u001b[1;34m(*args, **kwargs)\u001b[0m\n\u001b[0;32m    591\u001b[0m \u001b[39m@functools\u001b[39m\u001b[39m.\u001b[39mwraps(wrappedFunction)\n\u001b[0;32m    592\u001b[0m \u001b[39mdef\u001b[39;00m \u001b[39mwrapper\u001b[39m(\u001b[39m*\u001b[39margs, \u001b[39m*\u001b[39m\u001b[39m*\u001b[39mkwargs):\n\u001b[1;32m--> 593\u001b[0m     failSafeCheck()\n\u001b[0;32m    594\u001b[0m     returnVal \u001b[39m=\u001b[39m wrappedFunction(\u001b[39m*\u001b[39margs, \u001b[39m*\u001b[39m\u001b[39m*\u001b[39mkwargs)\n\u001b[0;32m    595\u001b[0m     _handlePause(kwargs\u001b[39m.\u001b[39mget(\u001b[39m\"\u001b[39m\u001b[39m_pause\u001b[39m\u001b[39m\"\u001b[39m, \u001b[39mTrue\u001b[39;00m))\n",
      "File \u001b[1;32mc:\\Users\\Neto\\anaconda3\\Lib\\site-packages\\pyautogui\\__init__.py:1734\u001b[0m, in \u001b[0;36mfailSafeCheck\u001b[1;34m()\u001b[0m\n\u001b[0;32m   1732\u001b[0m \u001b[39mdef\u001b[39;00m \u001b[39mfailSafeCheck\u001b[39m():\n\u001b[0;32m   1733\u001b[0m     \u001b[39mif\u001b[39;00m FAILSAFE \u001b[39mand\u001b[39;00m \u001b[39mtuple\u001b[39m(position()) \u001b[39min\u001b[39;00m FAILSAFE_POINTS:\n\u001b[1;32m-> 1734\u001b[0m         \u001b[39mraise\u001b[39;00m FailSafeException(\n\u001b[0;32m   1735\u001b[0m             \u001b[39m\"\u001b[39m\u001b[39mPyAutoGUI fail-safe triggered from mouse moving to a corner of the screen. To disable this fail-safe, set pyautogui.FAILSAFE to False. DISABLING FAIL-SAFE IS NOT RECOMMENDED.\u001b[39m\u001b[39m\"\u001b[39m\n\u001b[0;32m   1736\u001b[0m         )\n",
      "\u001b[1;31mFailSafeException\u001b[0m: PyAutoGUI fail-safe triggered from mouse moving to a corner of the screen. To disable this fail-safe, set pyautogui.FAILSAFE to False. DISABLING FAIL-SAFE IS NOT RECOMMENDED."
     ]
    }
   ],
   "source": [
    "pyautogui.PAUSE= 0.5\n",
    "\n",
    "pyautogui.press(\"win\")\n",
    "pyautogui.write(\"opera\")\n",
    "pyautogui.press(\"enter\")\n",
    "time.sleep(5)\n",
    "pyautogui.write(\"https://dlp.hashtagtreinamentos.com/python/intensivao/login\")\n",
    "pyautogui.press(\"enter\")\n",
    "\n",
    "time.sleep(5)\n",
    "\n",
    "pyautogui.press(\"tab\")\n",
    "pyautogui.write(\"teste@gmail.com\")\n",
    "pyautogui.press(\"tab\")\n",
    "pyautogui.write(\"minhasenha\")\n",
    "pyautogui.press(\"tab\")\n",
    "pyautogui.press(\"enter\")\n",
    "\n",
    "time.sleep(5)\n",
    "\n",
    "for linha in tabela.index:\n",
    "    pyautogui.click(x=730, y=300)\n",
    "    pyautogui.write(str(tabela.loc[linha, \"codigo\"]))\n",
    "    pyautogui.press(\"tab\")\n",
    "    pyautogui.write(str(tabela.loc[linha, \"marca\"]))\n",
    "    pyautogui.press(\"tab\")\n",
    "    pyautogui.write(str(tabela.loc[linha, \"tipo\"]))\n",
    "    pyautogui.press(\"tab\")\n",
    "    pyautogui.write(str(tabela.loc[linha, \"categoria\"]))\n",
    "    pyautogui.press(\"tab\")\n",
    "    pyautogui.write(str(tabela.loc[linha, \"preco_unitario\"]))\n",
    "    pyautogui.press(\"tab\")\n",
    "    pyautogui.write(str(tabela.loc[linha, \"custo\"]))\n",
    "    pyautogui.press(\"tab\")\n",
    "\n",
    "    if not pd.isna(tabela.loc[linha,\"obs\"]):\n",
    "        pyautogui.write(str(tabela.loc[linha,\"obs\"]))\n",
    "\n",
    "    pyautogui.press(\"tab\")\n",
    "    pyautogui.press(\"enter\")\n",
    "    pyautogui.scroll(5000)\n",
    "    time.sleep(2)\n"
   ]
  },
  {
   "cell_type": "code",
   "execution_count": null,
   "metadata": {},
   "outputs": [],
   "source": [
    "time.sleep(10)\n",
    "print(pyautogui.position())"
   ]
  }
 ],
 "metadata": {
  "kernelspec": {
   "display_name": "Python 3.10.9 ('base')",
   "language": "python",
   "name": "python3"
  },
  "language_info": {
   "codemirror_mode": {
    "name": "ipython",
    "version": 3
   },
   "file_extension": ".py",
   "mimetype": "text/x-python",
   "name": "python",
   "nbconvert_exporter": "python",
   "pygments_lexer": "ipython3",
   "version": "3.11.3"
  },
  "orig_nbformat": 4,
  "vscode": {
   "interpreter": {
    "hash": "93d280d3880475fd8cbd6d3961fd0f9f4a79a8de31da30a8ba88184cd3cac172"
   }
  }
 },
 "nbformat": 4,
 "nbformat_minor": 2
}
